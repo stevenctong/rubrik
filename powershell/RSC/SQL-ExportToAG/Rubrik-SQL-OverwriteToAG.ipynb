{
 "cells": [
  {
   "attachments": {},
   "cell_type": "markdown",
   "metadata": {},
   "source": [
    "# Environment Setup"
   ]
  },
  {
   "cell_type": "code",
   "execution_count": 2,
   "metadata": {
    "dotnet_interactive": {
     "language": "csharp"
    },
    "polyglot_notebook": {
     "kernelName": "csharp"
    }
   },
   "outputs": [
    {
     "data": {
      "text/html": [
       "<div><div></div><div></div><div><strong>Installed Packages</strong><ul><li><span>Microsoft.DotNet.Interactive.SqlServer, 1.0.0-beta.23258.3</span></li></ul></div></div>"
      ]
     },
     "metadata": {},
     "output_type": "display_data"
    },
    {
     "data": {
      "text/plain": [
       "Loading extensions from `/Users/Steven.Tong/.nuget/packages/microsoft.dotnet.interactive.sqlserver/1.0.0-beta.23258.3/interactive-extensions/dotnet/Microsoft.DotNet.Interactive.SqlServer.dll`"
      ]
     },
     "metadata": {},
     "output_type": "display_data"
    },
    {
     "data": {
      "text/html": [
       "<details><summary>Query Microsoft SQL Server databases.</summary>\r\n",
       "<p>This extension adds support for connecting to Microsoft SQL Server databases using the <code>#!connect mssql</code> magic command. For more information, run a cell using the <code>#!sql</code> magic command.</p>\r\n",
       "</details>"
      ]
     },
     "metadata": {},
     "output_type": "display_data"
    }
   ],
   "source": [
    "#r \"nuget:Microsoft.DotNet.Interactive.SqlServer,*-*\""
   ]
  },
  {
   "cell_type": "code",
   "execution_count": 3,
   "metadata": {
    "dotnet_interactive": {
     "language": "csharp"
    },
    "polyglot_notebook": {
     "kernelName": "csharp"
    }
   },
   "outputs": [
    {
     "data": {
      "text/plain": [
       "Kernel added: #!sql-AGDemo-1a"
      ]
     },
     "metadata": {},
     "output_type": "display_data"
    },
    {
     "data": {
      "text/plain": [
       "Kernel added: #!sql-AGDemo-1b"
      ]
     },
     "metadata": {},
     "output_type": "display_data"
    },
    {
     "data": {
      "text/plain": [
       "Kernel added: #!sql-AGDemo-1c"
      ]
     },
     "metadata": {},
     "output_type": "display_data"
    }
   ],
   "source": [
    "#!connect mssql --kernel-name AGDemo-1a \"Persist Security Info=False; TrustServerCertificate=True; Integrated Security=true; Initial Catalog=master; Server=rp-sql19ags-1a.perf.rubrik.com;\"\n",
    "#!connect mssql --kernel-name AGDemo-1b \"Persist Security Info=False; TrustServerCertificate=True; Integrated Security=true; Initial Catalog=master; Server=rp-sql19ags-1b.perf.rubrik.com;\"\n",
    "#!connect mssql --kernel-name AGDemo-1c \"Persist Security Info=False; TrustServerCertificate=True; Integrated Security=true; Initial Catalog=master; Server=rp-sql19ags-1c.perf.rubrik.com;\""
   ]
  },
  {
   "cell_type": "code",
   "execution_count": 4,
   "metadata": {
    "dotnet_interactive": {
     "language": "pwsh"
    },
    "polyglot_notebook": {
     "kernelName": "pwsh"
    }
   },
   "outputs": [],
   "source": [
    "# Rubrik Connection Information\n",
    "$ServiceAccountPath = '/Users/Steven.Tong/OneDrive - Rubrik Inc/git/rsc-service-account-rr.json'\n",
    "$ServiceAccountContent = Get-Content -Path \"$serviceAccountPath\" -ErrorAction Stop | ConvertFrom-Json\n",
    "\n",
    "$Server.access_token_uri\n",
    "$ServiceAccountID = $ServiceAccountContent.client_id\n",
    "$Secret = $ServiceAccountContent.client_secret\n",
    "\n",
    "# Primary SQL Server\n",
    "$PrimarySQLServerInstance = 'rp-sql19ags-1c.perf.rubrik.com'\n",
    "\n",
    "# Secondary SQL Servers\n",
    "$SecondarySQLServerInstance = 'rp-sql19ags-1a.perf.rubrik.com', 'rp-sql19ags-1b.perf.rubrik.com'\n",
    "\n",
    "# Availability Group Name\n",
    "$AvailabilityGroupName = 'rp-sql19ags-g1'\n",
    "# Source Instance Name\n",
    "$Instance = \"MSSQLSERVER\"\n",
    "# Source Database Name\n",
    "$DatabaseName = 'TongExport'"
   ]
  },
  {
   "attachments": {},
   "cell_type": "markdown",
   "metadata": {},
   "source": [
    "# Connect to Rubrik"
   ]
  },
  {
   "cell_type": "code",
   "execution_count": 5,
   "metadata": {
    "dotnet_interactive": {
     "language": "pwsh"
    },
    "polyglot_notebook": {
     "kernelName": "pwsh"
    }
   },
   "outputs": [
    {
     "name": "stdout",
     "output_type": "stream",
     "text": [
      "Connected!\n"
     ]
    }
   ],
   "source": [
    "Connect-RubrikSecurityCloud -ServiceAccountPath $ServiceAccountPath"
   ]
  },
  {
   "attachments": {},
   "cell_type": "markdown",
   "metadata": {},
   "source": [
    "# Refresh the Hosts of the SQL Servers in RSC"
   ]
  },
  {
   "cell_type": "code",
   "execution_count": 6,
   "metadata": {
    "dotnet_interactive": {
     "language": "pwsh"
    },
    "polyglot_notebook": {
     "kernelName": "pwsh"
    }
   },
   "outputs": [],
   "source": [
    "$QueryParms = @{\n",
    "    \"hostname\" = \"$($PrimarySQLServerInstance)\"\n",
    "    \"instance\" = $Instance\n",
    "}\n",
    "$RSCMSQLInstance = Invoke-RubrikQuery -Path ./GetMSSQLInstance.gql -QueryParams $QueryParms\n",
    "\n",
    "\n",
    "$QueryParms = @{\n",
    "    \"id\" = \"$($RSCMSQLInstance.id)\"\n",
    "}\n",
    " Invoke-RubrikQuery -Path ./PhysicalHostRefreshMutation.gql -QueryParams $QueryParms\n",
    "\n",
    "foreach ($SQLInstance in $SecondarySQLServerInstance){\n",
    "    $QueryParms = @{\n",
    "        \"hostname\" = \"$($SQLInstance)\"\n",
    "        \"instance\" = $Instance\n",
    "    }\n",
    "    $RSCMSQLInstance = Invoke-RubrikQuery -Path ./GetMSSQLInstance.gql -QueryParams $QueryParms\n",
    "\n",
    "    $QueryParms = @{\n",
    "        \"id\" = \"$($RSCMSQLInstance.id)\"\n",
    "    }\n",
    "    Invoke-RubrikQuery -Path ./PhysicalHostRefreshMutation.gql -QueryParams $QueryParms\n",
    "}\n",
    "Start-Sleep -Seconds 45"
   ]
  },
  {
   "attachments": {},
   "cell_type": "markdown",
   "metadata": {},
   "source": [
    "# Remove Database from Availability Group"
   ]
  },
  {
   "cell_type": "code",
   "execution_count": 7,
   "metadata": {
    "dotnet_interactive": {
     "language": "pwsh"
    },
    "polyglot_notebook": {
     "kernelName": "pwsh"
    }
   },
   "outputs": [
    {
     "name": "stdout",
     "output_type": "stream",
     "text": [
      "VERBOSE: [16:57:13][Connect-DbaInstance] String is passed in, will build server object from instance object and other parameters, do some checks and then return the server object\n",
      "VERBOSE: [16:57:13][Connect-DbaInstance] authentication method is 'local integrated'\n",
      "VERBOSE: Performing the operation \"Removing availability group database [TongExport]\" on target \"rp-sql19ags-1c.perf.rubrik.com\".\n",
      "\n",
      "\u001b[32;1mComputerName      : \u001b[0mrp-sql19ags-1c\n",
      "\u001b[32;1mInstanceName      : \u001b[0mMSSQLSERVER\n",
      "\u001b[32;1mSqlInstance       : \u001b[0mrp-sql19ags-1c\n",
      "\u001b[32;1mAvailabilityGroup : \u001b[0mrp-sql19ags-g1\n",
      "\u001b[32;1mDatabase          : \u001b[0mTongExport\n",
      "\u001b[32;1mStatus            : \u001b[0mRemoved\n",
      "\n",
      "\n"
     ]
    }
   ],
   "source": [
    "Remove-DbaAgDatabase -SQLInstance $PrimarySQLServerInstance -Database $DatabaseName -Confirm:$false -Verbose"
   ]
  },
  {
   "attachments": {},
   "cell_type": "markdown",
   "metadata": {},
   "source": [
    "## Remove Database from the SQL Server Instances"
   ]
  },
  {
   "cell_type": "code",
   "execution_count": 9,
   "metadata": {
    "dotnet_interactive": {
     "language": "pwsh"
    },
    "polyglot_notebook": {
     "kernelName": "pwsh"
    }
   },
   "outputs": [
    {
     "name": "stdout",
     "output_type": "stream",
     "text": [
      "VERBOSE: [16:57:40][Connect-DbaInstance] String is passed in, will build server object from instance object and other parameters, do some checks and then return the server object\n",
      "VERBOSE: [16:57:40][Connect-DbaInstance] authentication method is 'local integrated'\n",
      "VERBOSE: [16:57:40][Connect-DbaInstance] String is passed in, will build server object from instance object and other parameters, do some checks and then return the server object\n",
      "VERBOSE: [16:57:40][Connect-DbaInstance] authentication method is 'local integrated'\n",
      "VERBOSE: [16:57:41][Connect-DbaInstance] String is passed in, will build server object from instance object and other parameters, do some checks and then return the server object\n",
      "VERBOSE: [16:57:41][Connect-DbaInstance] authentication method is 'local integrated'\n"
     ]
    }
   ],
   "source": [
    "foreach ($SQLInstance in $SecondarySQLServerInstance){\n",
    "    Remove-DbaDatabase -SqlInstance $SQLInstance -Database $DatabaseName -Confirm:$false -Verbose\n",
    "}\n",
    "\n",
    "Remove-DbaDatabase -SqlInstance $PrimarySQLServerInstance -Database $DatabaseName -Confirm:$false -Verbose"
   ]
  },
  {
   "attachments": {},
   "cell_type": "markdown",
   "metadata": {},
   "source": [
    "## Refresh the Hosts of the SQL Servers in RSC"
   ]
  },
  {
   "cell_type": "code",
   "execution_count": 8,
   "metadata": {
    "dotnet_interactive": {
     "language": "pwsh"
    },
    "polyglot_notebook": {
     "kernelName": "pwsh"
    }
   },
   "outputs": [],
   "source": [
    "$QueryParms = @{\n",
    "    \"hostname\" = \"$($PrimarySQLServerInstance)\"\n",
    "    \"instance\" = $Instance\n",
    "}\n",
    "$RSCMSQLInstance = Invoke-RubrikQuery -Path ./GetMSSQLInstance.gql -QueryParams $QueryParms\n",
    "\n",
    "\n",
    "$QueryParms = @{\n",
    "    \"id\" = \"$($RSCMSQLInstance.id)\"\n",
    "}\n",
    " Invoke-RubrikQuery -Path ./PhysicalHostRefreshMutation.gql -QueryParams $QueryParms\n",
    "\n",
    "foreach ($SQLInstance in $SecondarySQLServerInstance){\n",
    "    $QueryParms = @{\n",
    "        \"hostname\" = \"$($SQLInstance)\"\n",
    "        \"instance\" = $Instance\n",
    "    }\n",
    "    $RSCMSQLInstance = Invoke-RubrikQuery -Path ./GetMSSQLInstance.gql -QueryParams $QueryParms\n",
    "\n",
    "    $QueryParms = @{\n",
    "        \"id\" = \"$($RSCMSQLInstance.id)\"\n",
    "    }\n",
    "    Invoke-RubrikQuery -Path ./PhysicalHostRefreshMutation.gql -QueryParams $QueryParms\n",
    "}\n",
    "Start-Sleep -Seconds 45"
   ]
  },
  {
   "attachments": {},
   "cell_type": "markdown",
   "metadata": {},
   "source": [
    "# Get the ID of the Availability Group"
   ]
  },
  {
   "cell_type": "code",
   "execution_count": 6,
   "metadata": {
    "dotnet_interactive": {
     "language": "pwsh"
    },
    "polyglot_notebook": {
     "kernelName": "pwsh"
    }
   },
   "outputs": [
    {
     "name": "stdout",
     "output_type": "stream",
     "text": [
      "\n",
      "\u001b[32;1mid                                   name\u001b[0m\n",
      "\u001b[32;1m--                                   ----\u001b[0m\n",
      "37d606ef-0e98-5e15-bb93-b50497484694 rp-sql19ags-g1\n",
      "\n"
     ]
    }
   ],
   "source": [
    "$QueryParms = @{\n",
    "    \"AvailabilityGroupName\" = $($AvailabilityGroupName)\n",
    "}\n",
    "$RSCMSSQLAvailabilityGroup = Invoke-RubrikQuery -Path ./GetMSSQLAvailabilityGroup.gql -QueryParams $QueryParms\n",
    "\n",
    "if ($RSCMSSQLAvailabilityGroup.id -eq $null) {\n",
    "    Write-Error \"No AG found with name: $AvailabilityGroupName\"\n",
    "}\n",
    "$RSCMSSQLAvailabilityGroup"
   ]
  },
  {
   "attachments": {},
   "cell_type": "markdown",
   "metadata": {},
   "source": [
    "# Get the ID of the Database"
   ]
  },
  {
   "cell_type": "code",
   "execution_count": null,
   "metadata": {
    "dotnet_interactive": {
     "language": "pwsh"
    },
    "polyglot_notebook": {
     "kernelName": "pwsh"
    }
   },
   "outputs": [],
   "source": [
    "$QueryParms = @{\n",
    "    \"fid\" = \"$($RSCMSSQLAvailabilityGroup.id)\"\n",
    "    \"DatabaseName\" = \"$($DatabaseName)\"\n",
    "}\n",
    "$RSCMSSQLDatabase = Invoke-RubrikQuery -Path ./GetMSSQLDatabaseFromAvailabilityGroup.gql -QueryParams $QueryParms\n",
    "\n",
    "if ($RSCMSSQLDatabase.logicalChildConnection.nodes.count -eq 0) {\n",
    "    Write-Error \"No database found with name: $DatabaseName, on AG: $AvailabilityGroupName\"\n",
    "}\n",
    "$RSCMSSQLDatabase.logicalChildConnection.nodes"
   ]
  },
  {
   "attachments": {},
   "cell_type": "markdown",
   "metadata": {},
   "source": [
    "# Get the Latest Recovery Point"
   ]
  },
  {
   "cell_type": "code",
   "execution_count": 96,
   "metadata": {
    "dotnet_interactive": {
     "language": "pwsh"
    },
    "polyglot_notebook": {
     "kernelName": "pwsh"
    }
   },
   "outputs": [
    {
     "name": "stdout",
     "output_type": "stream",
     "text": [
      "2023-05-11T23:03:11.000Z\n"
     ]
    }
   ],
   "source": [
    "$QueryParms = @{\n",
    "    \"id\" = \"$($RSCMSSQLDatabase.logicalChildConnection.nodes[0].id)\"\n",
    "}\n",
    "$RSCMSSQLRecoverableRange = Invoke-RubrikQuery -Path ./MssqlDatabaseDetailsRecoverableRangesQuery.gql -QueryParams $QueryParms | Sort-Object {$_.data.endTime}\n",
    "$RSCMSSQLDatabaseLatestRecoveryPoint = ($RSCMSSQLRecoverableRange.data.endTime[-1]).ToUniversalTime().ToString('yyyy-MM-ddTHH:mm:ss.fffZ')\n",
    "$RSCMSSQLDatabaseLatestRecoveryPoint"
   ]
  },
  {
   "attachments": {},
   "cell_type": "markdown",
   "metadata": {},
   "source": [
    "# Get the Original DB File Locations"
   ]
  },
  {
   "cell_type": "code",
   "execution_count": 97,
   "metadata": {
    "dotnet_interactive": {
     "language": "pwsh"
    },
    "polyglot_notebook": {
     "kernelName": "pwsh"
    }
   },
   "outputs": [
    {
     "name": "stdout",
     "output_type": "stream",
     "text": [
      "\n",
      "\u001b[32;1mName                           Value\u001b[0m\n",
      "\u001b[32;1m----                           -----\u001b[0m\n",
      "exportPath                     c:\\mnt\\sqldata\n",
      "logicalName                    AdventureWorks2017\n",
      "newFilename                    ProductionDatabase_tongexport.mdf\n",
      "exportPath                     c:\\mnt\\sqllogs\n",
      "logicalName                    AdventureWorks2017_log\n",
      "newFilename                    ProductionDatabase_Log_tongexport.ldf\n",
      "\n"
     ]
    }
   ],
   "source": [
    "$QueryParms = @{\n",
    "    \"input\" = @{\n",
    "        \"id\" = \"$($RSCMSSQLDatabase.logicalChildConnection.nodes[0].id)\"\n",
    "        \"time\" = $($RSCMSSQLDatabaseLatestRecoveryPoint)\n",
    "    }\n",
    "}\n",
    "$RSCMSSQLFileLocations = Invoke-RubrikQuery -Path ./AllMssqlDatabaseRestoreFilesQuery.gql -QueryParams $QueryParms\n",
    "\n",
    "$TargetFilePaths = @()\n",
    "\n",
    "foreach ($DBfile in $RSCMSSQLFileLocations.items) {\n",
    "    $originalName = [system.io.fileinfo]$DBFile.originalName\n",
    "    $newFilename = $originalName.Basename + $originalName.Extension\n",
    "    $targetFilePath = @{\n",
    "        \"newFilename\" = $newFilename\n",
    "        \"exportPath\" = $DBfile.originalPath\n",
    "        \"logicalName\" = $DBFile.logicalName\n",
    "    }\n",
    "    $TargetFilePaths += $targetFilePath\n",
    "}\n",
    "\n",
    "$targetFilePaths"
   ]
  },
  {
   "attachments": {},
   "cell_type": "markdown",
   "metadata": {},
   "source": [
    "# Export the Database to the Secondary Replicas"
   ]
  },
  {
   "cell_type": "code",
   "execution_count": 98,
   "metadata": {
    "dotnet_interactive": {
     "language": "pwsh"
    },
    "polyglot_notebook": {
     "kernelName": "pwsh"
    }
   },
   "outputs": [
    {
     "name": "stdout",
     "output_type": "stream",
     "text": [
      "\n",
      "\u001b[32;1mid                                   name                           cbtStatus physicalChildConnecti\u001b[0m\n",
      "\u001b[32;1m                                                                              on\u001b[0m\n",
      "\u001b[32;1m--                                   ----                           --------- ---------------------\u001b[0m\n",
      "1176c065-3434-5c87-b69f-597560c8cb17 rp-sql19ags-1a.perf.rubrik.com Enabled   @{nodes=System.Objec…\n",
      "6e02668f-2d63-5a2d-90bf-204df7676728 rp-sql19ags-1b.perf.rubrik.com Enabled   @{nodes=System.Objec…\n",
      "\n"
     ]
    }
   ],
   "source": [
    "foreach ($SQLInstance in $SecondarySQLServerInstance){\n",
    "    $QueryParms = @{\n",
    "        \"hostname\" = \"$($SQLInstance)\"\n",
    "        \"instance\" = \"$($Instance)\"\n",
    "    }\n",
    "    $RSCMSQLInstance = Invoke-RubrikQuery -Path ./GetMSSQLInstance.gql -QueryParams $QueryParms\n",
    "    $RSCMSQLInstance    \n",
    "\n",
    "    $QueryParms = @{\n",
    "        \"input\" = @{\n",
    "            \"id\" = \"$($RSCMSSQLDatabase.logicalChildConnection.nodes[0].id)\"\n",
    "            \"config\" = @{\n",
    "                \"recoveryPoint\" = @{\n",
    "                    \"date\" = \"$($RSCMSSQLDatabaseLatestRecoveryPoint)\"\n",
    "                }\n",
    "                \"targetInstanceId\" = \"$($RSCMSQLInstance.physicalChildConnection.nodes.id)\"\n",
    "                \"targetDatabaseName\" = \"$($DatabaseName)\"\n",
    "                \"targetDataFilePath\" = \"\"\n",
    "                \"targetLogFilePath\" = \"\"\n",
    "                \"targetFilePaths\" = $TargetFilePaths\n",
    "                \"allowOverwrite\" = $true\n",
    "                \"finishRecovery\" = $false\n",
    "            }\n",
    "        }\n",
    "    }\n",
    "    Invoke-RubrikQuery -Path ./MssqlDatabaseExportMutation.gql -QueryParams $QueryParms\n",
    "}\n",
    "Start-Sleep -Seconds 45"
   ]
  },
  {
   "attachments": {},
   "cell_type": "markdown",
   "metadata": {},
   "source": [
    "# Export the Database to the Primary Replica"
   ]
  },
  {
   "cell_type": "code",
   "execution_count": 99,
   "metadata": {
    "dotnet_interactive": {
     "language": "pwsh"
    },
    "polyglot_notebook": {
     "kernelName": "pwsh"
    }
   },
   "outputs": [
    {
     "name": "stdout",
     "output_type": "stream",
     "text": [
      "\n",
      "\u001b[32;1mid                                   name                           cbtStatus physicalChildConnecti\u001b[0m\n",
      "\u001b[32;1m                                                                              on\u001b[0m\n",
      "\u001b[32;1m--                                   ----                           --------- ---------------------\u001b[0m\n",
      "23fdb155-57bb-5cbb-9ec6-847bad6f09aa rp-sql19ags-1c.perf.rubrik.com Enabled   @{nodes=System.Objec…\n",
      "\n"
     ]
    }
   ],
   "source": [
    "$QueryParms = @{\n",
    "    \"hostname\" = \"$($PrimarySQLServerInstance)\"\n",
    "    \"instance\" = \"$($Instance)\"\n",
    "}\n",
    "$RSCMSQLInstance = Invoke-RubrikQuery -Path ./GetMSSQLInstance.gql -QueryParams $QueryParms\n",
    "$RSCMSQLInstance    \n",
    "\n",
    "$QueryParms = @{\n",
    "    \"input\" = @{\n",
    "        \"id\" = \"$($RSCMSSQLDatabase.logicalChildConnection.nodes[0].id)\"\n",
    "        \"config\" = @{\n",
    "            \"recoveryPoint\" = @{\"date\" = \"$($RSCMSSQLDatabaseLatestRecoveryPoint)\"}\n",
    "            \"targetInstanceId\" = \"$($RSCMSQLInstance.physicalChildConnection.nodes.id)\"\n",
    "            \"targetDatabaseName\" = \"$($DatabaseName)\"\n",
    "            \"targetDataFilePath\" = \"\"\n",
    "            \"targetLogFilePath\" = \"\"\n",
    "            \"targetFilePaths\" = $TargetFilePaths\n",
    "            \"allowOverwrite\" = $true\n",
    "            \"finishRecovery\" = $true\n",
    "        }\n",
    "    }\n",
    "}\n",
    "Invoke-RubrikQuery -Path ./MssqlDatabaseExportMutation.gql -QueryParams $QueryParms\n",
    "Start-Sleep -Seconds 45"
   ]
  },
  {
   "attachments": {},
   "cell_type": "markdown",
   "metadata": {},
   "source": [
    "# Add the Database into the AG on the Primary Replica"
   ]
  },
  {
   "cell_type": "code",
   "execution_count": 2,
   "metadata": {
    "dotnet_interactive": {
     "language": "pwsh"
    },
    "polyglot_notebook": {
     "kernelName": "pwsh"
    }
   },
   "outputs": [],
   "source": [
    "$Query = \"ALTER AVAILABILITY GROUP [$($AvailabilityGroupName)] ADD DATABASE [$($DatabaseName)];\"\n",
    "Invoke-DbaQuery -SqlInstance $PrimarySQLServerInstance -Query $Query"
   ]
  },
  {
   "attachments": {},
   "cell_type": "markdown",
   "metadata": {},
   "source": [
    "# Add the Database into the AG on Secondary Replicas"
   ]
  },
  {
   "cell_type": "code",
   "execution_count": 3,
   "metadata": {
    "dotnet_interactive": {
     "language": "pwsh"
    },
    "polyglot_notebook": {
     "kernelName": "pwsh"
    }
   },
   "outputs": [],
   "source": [
    "foreach ($SQLInstance in $SecondarySQLServerInstance){\n",
    "    $Query = \"ALTER DATABASE [$($DatabaseName)] SET HADR AVAILABILITY GROUP = [$($AvailabilityGroupName)];\"\n",
    "    Invoke-DbaQuery -SqlInstance $SQLInstance -Query $Query\n",
    "}"
   ]
  }
 ],
 "metadata": {
  "kernelspec": {
   "display_name": ".NET (C#)",
   "language": "C#",
   "name": ".net-csharp"
  },
  "language_info": {
   "name": "polyglot-notebook"
  },
  "polyglot_notebook": {
   "kernelInfo": {
    "defaultKernelName": "csharp",
    "items": [
     {
      "aliases": [],
      "name": "csharp"
     },
     {
      "aliases": [],
      "languageName": "pwsh",
      "name": "pwsh"
     },
     {
      "aliases": [],
      "languageName": "T-SQL",
      "name": "sql-AGDemo"
     },
     {
      "aliases": [],
      "languageName": "T-SQL",
      "name": "sql-AGDemo-1a"
     },
     {
      "aliases": [],
      "languageName": "T-SQL",
      "name": "sql-AGDemo-1b"
     },
     {
      "aliases": [],
      "languageName": "T-SQL",
      "name": "sql-AGDemo-1c"
     }
    ]
   }
  }
 },
 "nbformat": 4,
 "nbformat_minor": 2
}
