{
 "cells": [
  {
   "attachments": {},
   "cell_type": "markdown",
   "metadata": {},
   "source": [
    "# Environment Setup"
   ]
  },
  {
   "cell_type": "code",
   "execution_count": 4,
   "metadata": {
    "dotnet_interactive": {
     "language": "csharp"
    },
    "polyglot_notebook": {
     "kernelName": "csharp"
    }
   },
   "outputs": [
    {
     "data": {
      "text/html": [
       "<div><div></div><div></div><div><strong>Installed Packages</strong><ul><li><span>Microsoft.DotNet.Interactive.SqlServer, 1.0.0-beta.23258.3</span></li></ul></div></div>"
      ]
     },
     "metadata": {},
     "output_type": "display_data"
    }
   ],
   "source": [
    "#r \"nuget:Microsoft.DotNet.Interactive.SqlServer,*-*\""
   ]
  },
  {
   "cell_type": "code",
   "execution_count": 23,
   "metadata": {
    "dotnet_interactive": {
     "language": "csharp"
    },
    "polyglot_notebook": {
     "kernelName": "csharp"
    }
   },
   "outputs": [
    {
     "ename": "Error",
     "evalue": "System.Exception: Login failed. The login is from an untrusted domain and cannot be used with Integrated authentication.\n   at Microsoft.DotNet.Interactive.SqlServer.MsSqlKernel.ConnectAsync()\n   at Microsoft.DotNet.Interactive.SqlServer.MsSqlKernelConnector.CreateKernelAsync(String kernelName)\n   at Microsoft.DotNet.Interactive.SqlServer.ConnectMsSqlCommand.ConnectKernelsAsync(KernelInvocationContext context, InvocationContext commandLineContext)\n   at Microsoft.DotNet.Interactive.CompositeKernel.<>c__DisplayClass21_0.<<AddKernelConnector>b__0>d.MoveNext() in D:\\a\\_work\\1\\s\\src\\Microsoft.DotNet.Interactive\\CompositeKernel.cs:line 291\n--- End of stack trace from previous location ---\n   at System.CommandLine.NamingConventionBinder.CommandHandler.GetExitCodeAsync(Object returnValue, InvocationContext context)\n   at System.CommandLine.NamingConventionBinder.ModelBindingCommandHandler.InvokeAsync(InvocationContext context)\n   at System.CommandLine.Invocation.InvocationPipeline.<>c__DisplayClass4_0.<<BuildInvocationChain>b__0>d.MoveNext()\n--- End of stack trace from previous location ---\n   at System.CommandLine.Builder.CommandLineBuilderExtensions.<>c__DisplayClass15_0.<<AddMiddleware>b__0>d.MoveNext()\n--- End of stack trace from previous location ---\n   at System.CommandLine.Builder.CommandLineBuilderExtensions.<>c__DisplayClass12_0.<<UseHelp>b__0>d.MoveNext()\n--- End of stack trace from previous location ---\n   at System.CommandLine.Builder.CommandLineBuilderExtensions.<>c__DisplayClass19_0.<<UseTypoCorrections>b__0>d.MoveNext()\n--- End of stack trace from previous location ---\n   at System.CommandLine.Invocation.InvocationPipeline.<InvokeAsync>g__FullInvocationChainAsync|2_0(InvocationContext context)\n   at System.CommandLine.Parsing.ParseResultExtensions.InvokeAsync(ParseResult parseResult, IConsole console)\n   at Microsoft.DotNet.Interactive.Commands.DirectiveCommand.InvokeAsync(KernelInvocationContext context) in D:\\a\\_work\\1\\s\\src\\Microsoft.DotNet.Interactive\\Commands\\DirectiveCommand.cs:line 35\n   at Microsoft.DotNet.Interactive.Kernel.HandleAsync(KernelCommand command, KernelInvocationContext context) in D:\\a\\_work\\1\\s\\src\\Microsoft.DotNet.Interactive\\Kernel.cs:line 325\n   at Microsoft.DotNet.Interactive.KernelCommandPipeline.<BuildPipeline>b__6_0(KernelCommand command, KernelInvocationContext context, KernelPipelineContinuation _) in D:\\a\\_work\\1\\s\\src\\Microsoft.DotNet.Interactive\\KernelCommandPipeline.cs:line 60\n   at Microsoft.DotNet.Interactive.KernelCommandPipeline.SendAsync(KernelCommand command, KernelInvocationContext context) in D:\\a\\_work\\1\\s\\src\\Microsoft.DotNet.Interactive\\KernelCommandPipeline.cs:line 51",
     "output_type": "error",
     "traceback": [
      "System.Exception: Login failed. The login is from an untrusted domain and cannot be used with Integrated authentication.\n",
      "   at Microsoft.DotNet.Interactive.SqlServer.MsSqlKernel.ConnectAsync()\n",
      "   at Microsoft.DotNet.Interactive.SqlServer.MsSqlKernelConnector.CreateKernelAsync(String kernelName)\n",
      "   at Microsoft.DotNet.Interactive.SqlServer.ConnectMsSqlCommand.ConnectKernelsAsync(KernelInvocationContext context, InvocationContext commandLineContext)\n",
      "   at Microsoft.DotNet.Interactive.CompositeKernel.<>c__DisplayClass21_0.<<AddKernelConnector>b__0>d.MoveNext() in D:\\a\\_work\\1\\s\\src\\Microsoft.DotNet.Interactive\\CompositeKernel.cs:line 291\n",
      "--- End of stack trace from previous location ---\n",
      "   at System.CommandLine.NamingConventionBinder.CommandHandler.GetExitCodeAsync(Object returnValue, InvocationContext context)\n",
      "   at System.CommandLine.NamingConventionBinder.ModelBindingCommandHandler.InvokeAsync(InvocationContext context)\n",
      "   at System.CommandLine.Invocation.InvocationPipeline.<>c__DisplayClass4_0.<<BuildInvocationChain>b__0>d.MoveNext()\n",
      "--- End of stack trace from previous location ---\n",
      "   at System.CommandLine.Builder.CommandLineBuilderExtensions.<>c__DisplayClass15_0.<<AddMiddleware>b__0>d.MoveNext()\n",
      "--- End of stack trace from previous location ---\n",
      "   at System.CommandLine.Builder.CommandLineBuilderExtensions.<>c__DisplayClass12_0.<<UseHelp>b__0>d.MoveNext()\n",
      "--- End of stack trace from previous location ---\n",
      "   at System.CommandLine.Builder.CommandLineBuilderExtensions.<>c__DisplayClass19_0.<<UseTypoCorrections>b__0>d.MoveNext()\n",
      "--- End of stack trace from previous location ---\n",
      "   at System.CommandLine.Invocation.InvocationPipeline.<InvokeAsync>g__FullInvocationChainAsync|2_0(InvocationContext context)\n",
      "   at System.CommandLine.Parsing.ParseResultExtensions.InvokeAsync(ParseResult parseResult, IConsole console)\n",
      "   at Microsoft.DotNet.Interactive.Commands.DirectiveCommand.InvokeAsync(KernelInvocationContext context) in D:\\a\\_work\\1\\s\\src\\Microsoft.DotNet.Interactive\\Commands\\DirectiveCommand.cs:line 35\n",
      "   at Microsoft.DotNet.Interactive.Kernel.HandleAsync(KernelCommand command, KernelInvocationContext context) in D:\\a\\_work\\1\\s\\src\\Microsoft.DotNet.Interactive\\Kernel.cs:line 325\n",
      "   at Microsoft.DotNet.Interactive.KernelCommandPipeline.<BuildPipeline>b__6_0(KernelCommand command, KernelInvocationContext context, KernelPipelineContinuation _) in D:\\a\\_work\\1\\s\\src\\Microsoft.DotNet.Interactive\\KernelCommandPipeline.cs:line 60\n",
      "   at Microsoft.DotNet.Interactive.KernelCommandPipeline.SendAsync(KernelCommand command, KernelInvocationContext context) in D:\\a\\_work\\1\\s\\src\\Microsoft.DotNet.Interactive\\KernelCommandPipeline.cs:line 51"
     ]
    }
   ],
   "source": [
    "#!connect mssql --kernel-name AGDemo-1a \"Persist Security Info=False; TrustServerCertificate=True; Integrated Security=true; Initial Catalog=master; Server=rp-sql19ags-1a.perf.rubrik.com;\"\n",
    "#!connect mssql --kernel-name AGDemo-1b \"Persist Security Info=False; TrustServerCertificate=True; Integrated Security=true; Initial Catalog=master; Server=rp-sql19ags-1b.perf.rubrik.com;\"\n",
    "#!connect mssql --kernel-name AGDemo-1c \"Persist Security Info=False; TrustServerCertificate=True; Integrated Security=true; Initial Catalog=master; Server=rp-sql19ags-1c.perf.rubrik.com;\""
   ]
  },
  {
   "cell_type": "code",
   "execution_count": 14,
   "metadata": {
    "dotnet_interactive": {
     "language": "pwsh"
    },
    "polyglot_notebook": {
     "kernelName": "pwsh"
    }
   },
   "outputs": [],
   "source": [
    "# Rubrik Connection Information\n",
    "$ServiceAccountPath = '/Users/Steven.Tong/OneDrive - Rubrik Inc/git/rsc-service-account-rr.json'\n",
    "$ServiceAccountContent = Get-Content -Path \"$serviceAccountPath\" -ErrorAction Stop | ConvertFrom-Json\n",
    "\n",
    "$Server.access_token_uri\n",
    "$ServiceAccountID = $ServiceAccountContent.client_id\n",
    "$Secret = $ServiceAccountContent.client_secret\n",
    "\n",
    "# Primary SQL Server\n",
    "$PrimarySQLServerInstance = 'rp-sql19ags-1c.perf.rubrik.com'\n",
    "\n",
    "# Secondary SQL Servers\n",
    "$SecondarySQLServerInstance = 'rp-sql19ags-1a.perf.rubrik.com', 'rp-sql19ags-1b.perf.rubrik.com'\n",
    "\n",
    "# Availability Group Name\n",
    "$AvailabilityGroupName = 'rp-sql19ags-g1'\n",
    "# Source Database Name\n",
    "$DatabaseName = 'ProductionDatabase'\n",
    "# Target Database Name\n",
    "$TargetDatabaseName = 'TongExport'\n",
    "\n",
    "# Append the following to the existing filenames to avoid conflicts\n",
    "$FilenameAppend = '_tongexport'"
   ]
  },
  {
   "attachments": {},
   "cell_type": "markdown",
   "metadata": {},
   "source": [
    "# Connect to Rubrik"
   ]
  },
  {
   "cell_type": "code",
   "execution_count": 15,
   "metadata": {
    "dotnet_interactive": {
     "language": "pwsh"
    },
    "polyglot_notebook": {
     "kernelName": "pwsh"
    }
   },
   "outputs": [
    {
     "name": "stdout",
     "output_type": "stream",
     "text": [
      "Connected!\n"
     ]
    }
   ],
   "source": [
    "Connect-RubrikSecurityCloud -ServiceAccountPath $ServiceAccountPath"
   ]
  },
  {
   "attachments": {},
   "cell_type": "markdown",
   "metadata": {},
   "source": [
    "# Refresh the Hosts of the SQL Servers in RSC"
   ]
  },
  {
   "cell_type": "code",
   "execution_count": 16,
   "metadata": {
    "dotnet_interactive": {
     "language": "pwsh"
    },
    "polyglot_notebook": {
     "kernelName": "pwsh"
    }
   },
   "outputs": [],
   "source": [
    "$QueryParms = @{\n",
    "    \"hostname\" = \"$($PrimarySQLServerInstance)\"\n",
    "    \"instance\" = \"MSSQLSERVER\"\n",
    "}\n",
    "$RSCMSQLInstance = Invoke-RubrikQuery -Path ./GetMSSQLInstance.gql -QueryParams $QueryParms\n",
    "\n",
    "\n",
    "$QueryParms = @{\n",
    "    \"id\" = \"$($RSCMSQLInstance.id)\"\n",
    "}\n",
    " Invoke-RubrikQuery -Path ./PhysicalHostRefreshMutation.gql -QueryParams $QueryParms\n",
    "\n",
    "foreach ($SQLInstance in $SecondarySQLServerInstance){\n",
    "    $QueryParms = @{\n",
    "        \"hostname\" = \"$($SQLInstance)\"\n",
    "        \"instance\" = \"MSSQLSERVER\"\n",
    "    }\n",
    "    $RSCMSQLInstance = Invoke-RubrikQuery -Path ./GetMSSQLInstance.gql -QueryParams $QueryParms\n",
    "\n",
    "    $QueryParms = @{\n",
    "        \"id\" = \"$($RSCMSQLInstance.id)\"\n",
    "    }\n",
    "    Invoke-RubrikQuery -Path ./PhysicalHostRefreshMutation.gql -QueryParams $QueryParms\n",
    "}\n",
    "Start-Sleep -Seconds 45"
   ]
  },
  {
   "attachments": {},
   "cell_type": "markdown",
   "metadata": {},
   "source": [
    "# Get the ID of the Availability Group"
   ]
  },
  {
   "cell_type": "code",
   "execution_count": 11,
   "metadata": {
    "dotnet_interactive": {
     "language": "pwsh"
    },
    "polyglot_notebook": {
     "kernelName": "pwsh"
    }
   },
   "outputs": [
    {
     "name": "stdout",
     "output_type": "stream",
     "text": [
      "\n",
      "\u001b[32;1mid                                   name           cluster\u001b[0m\n",
      "\u001b[32;1m--                                   ----           -------\u001b[0m\n",
      "37d606ef-0e98-5e15-bb93-b50497484694 rp-sql19ags-g1 @{id=39b92c18-d897-4b55-a7f9-17ff178616d0; nam…\n",
      "\n"
     ]
    }
   ],
   "source": [
    "Write-Host \"Getting ID of AG: $AvailabilityGroupName\"\n",
    "\n",
    "$QueryParms = @{\n",
    "    \"AvailabilityGroupName\" = $($AvailabilityGroupName)\n",
    "}\n",
    "$RSCMSSQLAvailabilityGroup = Invoke-RubrikQuery -Path ./GetMSSQLAvailabilityGroup.gql -QueryParams $QueryParms\n",
    "\n",
    "if ($RSCMSSQLAvailabilityGroup.id -eq $null) {\n",
    "    Write-Error \"No AG found with name: $AvailabilityGroupName\"\n",
    "}\n",
    "\n",
    "if ($RSCMSSQLAvailabilityGroup.count -gt 1) {\n",
    "    Write-Error \"Multiple AG found with name: $AvailabilityGroupName\"\n",
    "}\n",
    "$RSCMSSQLAvailabilityGroup"
   ]
  },
  {
   "attachments": {},
   "cell_type": "markdown",
   "metadata": {},
   "source": [
    "# Get the ID of the Database"
   ]
  },
  {
   "cell_type": "code",
   "execution_count": 17,
   "metadata": {
    "dotnet_interactive": {
     "language": "pwsh"
    },
    "polyglot_notebook": {
     "kernelName": "pwsh"
    }
   },
   "outputs": [
    {
     "name": "stdout",
     "output_type": "stream",
     "text": [
      "\n",
      "\u001b[32;1mname               id\u001b[0m\n",
      "\u001b[32;1m----               --\u001b[0m\n",
      "ProductionDatabase 02334333-d65b-584c-8a0d-cbe07a950f53\n",
      "ProductionDatabase 9ce3902c-2318-58d0-aa8d-c366b395f63c\n",
      "ProductionDatabase c3656bda-aeeb-5faa-a62a-71913fc3b713\n",
      "ProductionDatabase c8a743d4-5683-514d-a593-2f30047768e3\n",
      "ProductionDatabase f0cfde6e-a708-556d-ba14-ded265f94d2c\n",
      "\n"
     ]
    }
   ],
   "source": [
    "$QueryParms = @{\n",
    "    \"fid\" = \"$($RSCMSSQLAvailabilityGroup.id)\"\n",
    "    \"DatabaseName\" = \"$($DatabaseName)\"\n",
    "}\n",
    "$RSCMSSQLDatabase = Invoke-RubrikQuery -Path ./GetMSSQLDatabaseFromAvailabilityGroup.gql -QueryParams $QueryParms\n",
    "\n",
    "if ($RSCMSSQLDatabase.logicalChildConnection.nodes.count -eq 0) {\n",
    "    Write-Error \"No database found with name: $DatabaseName, on AG: $AvailabilityGroupName\"\n",
    "}\n",
    "$RSCMSSQLDatabase.logicalChildConnection.nodes"
   ]
  },
  {
   "attachments": {},
   "cell_type": "markdown",
   "metadata": {},
   "source": [
    "# Get the Latest Recovery Point"
   ]
  },
  {
   "cell_type": "code",
   "execution_count": 13,
   "metadata": {
    "dotnet_interactive": {
     "language": "pwsh"
    },
    "polyglot_notebook": {
     "kernelName": "pwsh"
    }
   },
   "outputs": [
    {
     "name": "stdout",
     "output_type": "stream",
     "text": [
      "2023-05-26T15:05:53.000Z\n"
     ]
    }
   ],
   "source": [
    "$QueryParms = @{\n",
    "    \"id\" = \"$($RSCMSSQLDatabase.logicalChildConnection.nodes[0].id)\"\n",
    "}\n",
    "$RSCMSSQLRecoverableRange = Invoke-RubrikQuery -Path ./MssqlDatabaseDetailsRecoverableRangesQuery.gql -QueryParams $QueryParms | Sort-Object {$_.data.endTime}\n",
    "$RSCMSSQLDatabaseLatestRecoveryPoint = ($RSCMSSQLRecoverableRange.data.endTime[-1]).ToUniversalTime().ToString('yyyy-MM-ddTHH:mm:ss.fffZ')\n",
    "$RSCMSSQLDatabaseLatestRecoveryPoint"
   ]
  },
  {
   "attachments": {},
   "cell_type": "markdown",
   "metadata": {},
   "source": [
    "# Get the Original DB File Locations"
   ]
  },
  {
   "cell_type": "code",
   "execution_count": 18,
   "metadata": {
    "dotnet_interactive": {
     "language": "pwsh"
    },
    "polyglot_notebook": {
     "kernelName": "pwsh"
    }
   },
   "outputs": [
    {
     "name": "stdout",
     "output_type": "stream",
     "text": [
      "\n",
      "\u001b[32;1mName                           Value\u001b[0m\n",
      "\u001b[32;1m----                           -----\u001b[0m\n",
      "exportPath                     c:\\mnt\\sqldata\n",
      "logicalName                    AdventureWorks2017\n",
      "newFilename                    ProductionDatabase_tongexport.mdf\n",
      "exportPath                     c:\\mnt\\sqllogs\n",
      "logicalName                    AdventureWorks2017_log\n",
      "newFilename                    ProductionDatabase_Log_tongexport.ldf\n",
      "\n"
     ]
    }
   ],
   "source": [
    "$QueryParms = @{\n",
    "    \"input\" = @{\n",
    "        \"id\" = \"$($RSCMSSQLDatabase.logicalChildConnection.nodes[0].id)\"\n",
    "        \"time\" = $($RSCMSSQLDatabaseLatestRecoveryPoint)\n",
    "    }\n",
    "}\n",
    "$RSCMSSQLFileLocations = Invoke-RubrikQuery -Path ./AllMssqlDatabaseRestoreFilesQuery.gql -QueryParams $QueryParms\n",
    "\n",
    "$TargetFilePaths = @()\n",
    "\n",
    "foreach ($DBfile in $RSCMSSQLFileLocations.items) {\n",
    "    $originalName = [system.io.fileinfo]$DBFile.originalName\n",
    "    $newFilename = $originalName.Basename + $FilenameAppend +  $originalName.Extension\n",
    "    $targetFilePath = @{\n",
    "        \"newFilename\" = $newFilename\n",
    "        \"exportPath\" = $DBfile.originalPath\n",
    "        \"logicalName\" = $DBFile.logicalName\n",
    "    }\n",
    "    $TargetFilePaths += $targetFilePath\n",
    "}\n",
    "\n",
    "$targetFilePaths"
   ]
  },
  {
   "attachments": {},
   "cell_type": "markdown",
   "metadata": {},
   "source": [
    "# Export the Database to the Secondary Replicas"
   ]
  },
  {
   "cell_type": "code",
   "execution_count": 19,
   "metadata": {
    "dotnet_interactive": {
     "language": "pwsh"
    },
    "polyglot_notebook": {
     "kernelName": "pwsh"
    }
   },
   "outputs": [
    {
     "name": "stdout",
     "output_type": "stream",
     "text": [
      "\n",
      "\u001b[32;1mid                                   name                           cbtStatus physicalChildConnecti\u001b[0m\n",
      "\u001b[32;1m                                                                              on\u001b[0m\n",
      "\u001b[32;1m--                                   ----                           --------- ---------------------\u001b[0m\n",
      "1176c065-3434-5c87-b69f-597560c8cb17 rp-sql19ags-1a.perf.rubrik.com Enabled   @{nodes=System.Objec…\n",
      "6e02668f-2d63-5a2d-90bf-204df7676728 rp-sql19ags-1b.perf.rubrik.com Enabled   @{nodes=System.Objec…\n",
      "\n"
     ]
    }
   ],
   "source": [
    "foreach ($SQLInstance in $SecondarySQLServerInstance){\n",
    "    $QueryParms = @{\n",
    "        \"hostname\" = \"$($SQLInstance)\"\n",
    "        \"instance\" = \"MSSQLSERVER\"\n",
    "    }\n",
    "    $RSCMSQLInstance = Invoke-RubrikQuery -Path ./GetMSSQLInstance.gql -QueryParams $QueryParms\n",
    "    $RSCMSQLInstance    \n",
    "\n",
    "    $QueryParms = @{\n",
    "        \"input\" = @{\n",
    "            \"id\" = \"$($RSCMSSQLDatabase.logicalChildConnection.nodes[0].id)\"\n",
    "            \"config\" = @{\n",
    "                \"recoveryPoint\" = @{\n",
    "                    \"date\" = \"$($RSCMSSQLDatabaseLatestRecoveryPoint)\"\n",
    "                }\n",
    "                \"targetInstanceId\" = \"$($RSCMSQLInstance.physicalChildConnection.nodes.id)\"\n",
    "                \"targetDatabaseName\" = \"$($TargetDatabaseName)\"\n",
    "                \"targetDataFilePath\" = \"\"\n",
    "                \"targetLogFilePath\" = \"\"\n",
    "                \"targetFilePaths\" = $TargetFilePaths\n",
    "                \"allowOverwrite\" = $true\n",
    "                \"finishRecovery\" = $false\n",
    "            }\n",
    "        }\n",
    "    }\n",
    "    Invoke-RubrikQuery -Path ./MssqlDatabaseExportMutation.gql -QueryParams $QueryParms\n",
    "}\n",
    "Start-Sleep -Seconds 45"
   ]
  },
  {
   "attachments": {},
   "cell_type": "markdown",
   "metadata": {},
   "source": [
    "# Export the Database to the Primary Replica"
   ]
  },
  {
   "cell_type": "code",
   "execution_count": 20,
   "metadata": {
    "dotnet_interactive": {
     "language": "pwsh"
    },
    "polyglot_notebook": {
     "kernelName": "pwsh"
    }
   },
   "outputs": [
    {
     "name": "stdout",
     "output_type": "stream",
     "text": [
      "\n",
      "\u001b[32;1mid                                   name                           cbtStatus physicalChildConnecti\u001b[0m\n",
      "\u001b[32;1m                                                                              on\u001b[0m\n",
      "\u001b[32;1m--                                   ----                           --------- ---------------------\u001b[0m\n",
      "23fdb155-57bb-5cbb-9ec6-847bad6f09aa rp-sql19ags-1c.perf.rubrik.com Enabled   @{nodes=System.Objec…\n",
      "\n"
     ]
    }
   ],
   "source": [
    "$QueryParms = @{\n",
    "    \"hostname\" = \"$($PrimarySQLServerInstance)\"\n",
    "    \"instance\" = \"MSSQLSERVER\"\n",
    "}\n",
    "$RSCMSQLInstance = Invoke-RubrikQuery -Path ./GetMSSQLInstance.gql -QueryParams $QueryParms\n",
    "$RSCMSQLInstance    \n",
    "\n",
    "$QueryParms = @{\n",
    "    \"input\" = @{\n",
    "        \"id\" = \"$($RSCMSSQLDatabase.logicalChildConnection.nodes[0].id)\"\n",
    "        \"config\" = @{\n",
    "            \"recoveryPoint\" = @{\"date\" = \"$($RSCMSSQLDatabaseLatestRecoveryPoint)\"}\n",
    "            \"targetInstanceId\" = \"$($RSCMSQLInstance.physicalChildConnection.nodes.id)\"\n",
    "            \"targetDatabaseName\" = \"$($TargetDatabaseName)\"\n",
    "            \"targetDataFilePath\" = \"\"\n",
    "            \"targetLogFilePath\" = \"\"\n",
    "            \"targetFilePaths\" = $TargetFilePaths\n",
    "            \"allowOverwrite\" = $true\n",
    "            \"finishRecovery\" = $true\n",
    "        }\n",
    "    }\n",
    "}\n",
    "$req = Invoke-RubrikQuery -Path ./MssqlDatabaseExportMutation.gql -QueryParams $QueryParms\n",
    "Start-Sleep -Seconds 45"
   ]
  },
  {
   "attachments": {},
   "cell_type": "markdown",
   "metadata": {},
   "source": [
    "# Add the Database into the AG on the Primary Replica"
   ]
  },
  {
   "cell_type": "code",
   "execution_count": 22,
   "metadata": {
    "dotnet_interactive": {
     "language": "pwsh"
    },
    "polyglot_notebook": {
     "kernelName": "pwsh"
    }
   },
   "outputs": [
    {
     "name": "stdout",
     "output_type": "stream",
     "text": [
      "WARNING: [05:13:32][Invoke-DbaQuery] Failure | Login failed. The login is from an untrusted domain and cannot be used with Integrated authentication.\n"
     ]
    }
   ],
   "source": [
    "$Query = \"ALTER AVAILABILITY GROUP [$($AvailabilityGroupName)] ADD DATABASE [$($TargetDatabaseName)];\"\n",
    "Invoke-DbaQuery -SqlInstance $PrimarySQLServerInstance -Query $Query"
   ]
  },
  {
   "attachments": {},
   "cell_type": "markdown",
   "metadata": {},
   "source": [
    "# Add the Database into the AG on Secondary Replicas"
   ]
  },
  {
   "cell_type": "code",
   "execution_count": 3,
   "metadata": {
    "dotnet_interactive": {
     "language": "pwsh"
    },
    "polyglot_notebook": {
     "kernelName": "pwsh"
    }
   },
   "outputs": [],
   "source": [
    "foreach ($SQLInstance in $SecondarySQLServerInstance){\n",
    "    $Query = \"ALTER DATABASE [$($TargetDatabaseName)] SET HADR AVAILABILITY GROUP = [$($AvailabilityGroupName)];\"\n",
    "    Invoke-DbaQuery -SqlInstance $SQLInstance -Query $Query\n",
    "}"
   ]
  }
 ],
 "metadata": {
  "kernelspec": {
   "display_name": ".NET (C#)",
   "language": "C#",
   "name": ".net-csharp"
  },
  "language_info": {
   "name": "polyglot-notebook"
  },
  "polyglot_notebook": {
   "kernelInfo": {
    "defaultKernelName": "csharp",
    "items": [
     {
      "aliases": [],
      "name": "csharp"
     },
     {
      "aliases": [],
      "languageName": "pwsh",
      "name": "pwsh"
     },
     {
      "aliases": [],
      "languageName": "T-SQL",
      "name": "sql-AGDemo"
     },
     {
      "aliases": [],
      "languageName": "T-SQL",
      "name": "sql-AGDemo-1a"
     },
     {
      "aliases": [],
      "languageName": "T-SQL",
      "name": "sql-AGDemo-1b"
     },
     {
      "aliases": [],
      "languageName": "T-SQL",
      "name": "sql-AGDemo-1c"
     }
    ]
   }
  }
 },
 "nbformat": 4,
 "nbformat_minor": 2
}
